{
 "metadata": {
  "language_info": {
   "codemirror_mode": {
    "name": "ipython",
    "version": 3
   },
   "file_extension": ".py",
   "mimetype": "text/x-python",
   "name": "python",
   "nbconvert_exporter": "python",
   "pygments_lexer": "ipython3",
   "version": "3.7.6-final"
  },
  "orig_nbformat": 2,
  "kernelspec": {
   "name": "python3",
   "display_name": "Python 3.7.6 64-bit (conda)",
   "metadata": {
    "interpreter": {
     "hash": "4480e32245891b07b354378c7dbc380a1b3f17ee24171af64af582c25470e498"
    }
   }
  }
 },
 "nbformat": 4,
 "nbformat_minor": 2,
 "cells": [
  {
   "cell_type": "code",
   "execution_count": 1,
   "metadata": {},
   "outputs": [],
   "source": [
    "from copy import deepcopy\n",
    "import os\n",
    "\n",
    "import numpy as np \n",
    "import matplotlib.pyplot as plt\n",
    "import torch\n",
    "import seaborn as sns\n",
    "\n",
    "from constants import *\n",
    "from utils import *\n",
    "from game import *\n",
    "from nn import *"
   ]
  },
  {
   "source": [
    "===== Teeko =====\n",
    "\n",
    "TODO:\n",
    "+ neural net gradient test\n",
    "+ move test game to test.py\n",
    "\n",
    "\n",
    "+ training loop\n",
    "+ basic policy gradient\n",
    "+ MCTS outline"
   ],
   "cell_type": "code",
   "metadata": {},
   "execution_count": null,
   "outputs": []
  },
  {
   "cell_type": "code",
   "execution_count": 2,
   "metadata": {},
   "outputs": [],
   "source": [
    "path = os.getcwd()\n",
    "datapath = os.path.join(path, \"games\")\n",
    "\n",
    "if not os.path.exists(datapath):\n",
    "    os.mkdir(datapath)"
   ]
  },
  {
   "cell_type": "code",
   "execution_count": 3,
   "metadata": {},
   "outputs": [],
   "source": [
    "moves = [(3, 0), (2,1), (2,0), (1,0), (3,2), (3,1), (4,1), (2,2),\n",
    "((2,0), (1,1)),\n",
    "((1,0), (2,0)),\n",
    "((1,1), (1,2)),\n",
    "((2,2), (1,1)),\n",
    "((1,2), (0,1)),\n",
    "((3,1), (2,2)),\n",
    "((0,1), (1,2)),\n",
    "((2,2), (2,3)),\n",
    "((1,2), (1,3)),\n",
    "((1,1), (2,2)),]"
   ]
  },
  {
   "cell_type": "code",
   "execution_count": 4,
   "metadata": {},
   "outputs": [
    {
     "output_type": "stream",
     "name": "stdout",
     "text": [
      "moving\n[[0. 0. 0. 0. 0.]\n [0. 0. 0. 1. 0.]\n [0. 0. 0. 0. 0.]\n [1. 0. 1. 0. 0.]\n [0. 1. 0. 0. 0.]]\n18\nTrue\n"
     ]
    }
   ],
   "source": [
    "game = Teeko()\n",
    "\n",
    "for m in moves:\n",
    "    if game.phase == \"placing\":\n",
    "        action = int_from_coord(m)\n",
    "        game.act(action)\n",
    "\n",
    "    elif game.phase == \"moving\":\n",
    "        action = int_from_move(m)\n",
    "        game.act(action)\n",
    "\n",
    "print(game.phase)\n",
    "print(game.black_grid)\n",
    "print(game.game_length)\n",
    "print(game.game_over)"
   ]
  },
  {
   "cell_type": "code",
   "execution_count": 5,
   "metadata": {},
   "outputs": [
    {
     "output_type": "execute_result",
     "data": {
      "text/plain": [
       "'red'"
      ]
     },
     "metadata": {},
     "execution_count": 5
    }
   ],
   "source": [
    "game.winner"
   ]
  },
  {
   "cell_type": "code",
   "execution_count": 13,
   "metadata": {},
   "outputs": [],
   "source": [
    "temperature = 2\n",
    "softmax = torch.nn.Softmax()\n",
    "head = Network()\n",
    "\n",
    "for i in range(50):\n",
    "    game = Teeko()\n",
    "    game_ID = f\"{i}\"\n",
    "\n",
    "    generation_path = os.path.join(datapath, \"gen_0\")\n",
    "\n",
    "    if not os.path.exists(generation_path):\n",
    "        os.mkdir(generation_path)\n",
    "\n",
    "    board_history = []\n",
    "    action_history = []\n",
    "\n",
    "    head.eval()\n",
    "\n",
    "    for i in range(80):\n",
    "        # get board input to NN\n",
    "        board = game.represent()\n",
    "\n",
    "        board_history.append(board)\n",
    "\n",
    "        board = torch.tensor(np.expand_dims(board, 0), dtype=torch.float)\n",
    "        prompt = game.phase\n",
    "\n",
    "        # NN output\n",
    "        value, action = head(board, prompt)\n",
    "\n",
    "        # apply move mask to raw output, then apply temperature are softmax\n",
    "        move_mask = torch.tensor(game.move_mask, dtype=torch.float)\n",
    "        masked_actions = move_mask * action * temperature\n",
    "\n",
    "        action = softmax(masked_actions)\n",
    "\n",
    "        # cast to np\n",
    "        value_ = value.detach().numpy()\n",
    "        action_ = action.detach().numpy()\n",
    "\n",
    "        # choose action on weighed distribution\n",
    "        action_sum = np.cumsum(action_)\n",
    "        action_int = draw_from(action_sum)\n",
    "\n",
    "        action_history.append(action_int)\n",
    "\n",
    "        game.act(action_int)\n",
    "\n",
    "        if game.game_over:\n",
    "            break\n",
    "\n",
    "    board_history = np.array(board_history)  # (*, 3, 5, 5)\n",
    "    action_history = np.array(action_history)  # (80,)\n",
    "    winner = game.winner\n",
    "    outcome = 0.5\n",
    "\n",
    "    if winner == \"black\":\n",
    "        outcome = 1\n",
    "    elif winner == \"red\":\n",
    "        outcome = 0\n",
    "\n",
    "    savepath = os.path.join(generation_path, game_ID)\n",
    "\n",
    "    np.savez(savepath, boards=board_history, actions=action_history, outcome=outcome)"
   ]
  },
  {
   "cell_type": "code",
   "execution_count": 14,
   "metadata": {},
   "outputs": [
    {
     "output_type": "stream",
     "name": "stdout",
     "text": [
      "0.5\n",
      "0.5\n",
      "0.5\n",
      "0.5\n",
      "0.5\n",
      "0.5\n",
      "0.5\n",
      "0.5\n",
      "0.5\n",
      "0.5\n",
      "0.5\n",
      "0.5\n",
      "0.5\n",
      "0.5\n",
      "0.5\n",
      "0.5\n",
      "0.5\n",
      "0.5\n",
      "0.5\n",
      "0.5\n",
      "0.5\n",
      "0.5\n",
      "0.5\n",
      "0.5\n",
      "0.5\n",
      "0.5\n",
      "0.5\n",
      "0.5\n",
      "0.5\n",
      "0.5\n",
      "0.5\n",
      "0.5\n",
      "0.5\n",
      "0.5\n",
      "0.5\n",
      "0.5\n",
      "0.5\n",
      "0.5\n",
      "0.5\n",
      "0.5\n",
      "0.5\n",
      "0.5\n",
      "0.5\n",
      "0.5\n",
      "0.5\n",
      "0.5\n",
      "0.5\n",
      "0.5\n",
      "0.5\n",
      "0.5\n",
      "0.5\n",
      "0.5\n",
      "0.5\n",
      "0.5\n",
      "0.5\n",
      "0.5\n",
      "0.5\n",
      "0.5\n",
      "0.5\n",
      "0.5\n",
      "0.5\n",
      "0.5\n",
      "0.5\n",
      "0.5\n",
      "0.5\n",
      "0.5\n",
      "0.5\n",
      "0.5\n",
      "0.5\n",
      "0.5\n",
      "0.5\n",
      "0.5\n",
      "0.5\n",
      "0.5\n",
      "0.5\n",
      "0.5\n",
      "0.5\n",
      "0.5\n",
      "0.5\n",
      "0.5\n",
      "0.5\n",
      "0.5\n",
      "0.5\n",
      "0.5\n",
      "0.5\n",
      "0.5\n",
      "0.5\n",
      "0.5\n",
      "0.5\n",
      "0.5\n",
      "0.5\n",
      "0.5\n",
      "0\n",
      "0.5\n",
      "0.5\n",
      "0.5\n",
      "0.5\n",
      "0.5\n",
      "0.5\n",
      "0.5\n"
     ]
    }
   ],
   "source": [
    "games = os.listdir(generation_path)\n",
    "\n",
    "for filename in games:\n",
    "    filepath = os.path.join(generation_path, filename)\n",
    "\n",
    "    gamedata = np.load(filepath)\n",
    "    boards = gamedata['boards']\n",
    "    actions = gamedata['actions']\n",
    "    outcome = gamedata['outcome']\n",
    "\n",
    "    print(outcome)"
   ]
  },
  {
   "cell_type": "code",
   "execution_count": 16,
   "metadata": {},
   "outputs": [
    {
     "output_type": "execute_result",
     "data": {
      "text/plain": [
       "((9, 3, 5, 5), (9,))"
      ]
     },
     "metadata": {},
     "execution_count": 16
    }
   ],
   "source": [
    "boards.shape, actions.shape"
   ]
  },
  {
   "cell_type": "code",
   "execution_count": null,
   "metadata": {},
   "outputs": [],
   "source": []
  }
 ]
}