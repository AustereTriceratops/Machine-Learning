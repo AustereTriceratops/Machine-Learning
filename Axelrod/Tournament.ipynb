{
 "cells": [
  {
   "cell_type": "code",
   "execution_count": 1,
   "metadata": {
    "colab": {},
    "colab_type": "code",
    "id": "2oDUn4k0BQ-g"
   },
   "outputs": [],
   "source": [
    "import random as r\n",
    "import pandas as pd\n",
    "import seaborn as sns"
   ]
  },
  {
   "cell_type": "code",
   "execution_count": 2,
   "metadata": {
    "colab": {},
    "colab_type": "code",
    "id": "4QyHOfrgADyD"
   },
   "outputs": [],
   "source": [
    "payoff_matrix = [[(3,3), (0,4)], [(4,0), (1,1)]]  # 0: cooperate; 1: defect\n",
    "# [first player strategy][second player strategy]\n",
    "# (first player payoff, second player payoff)\n",
    "strategies = ['C','T','D', 'O', 'R']\n",
    "cmap = sns.cubehelix_palette(n_colors=3, as_cmap=True)\n",
    "gridsize = 25"
   ]
  },
  {
   "cell_type": "code",
   "execution_count": 3,
   "metadata": {
    "colab": {},
    "colab_type": "code",
    "id": "pkoowEvGXPwD"
   },
   "outputs": [],
   "source": [
    "class Tournament():\n",
    "  def __init__(self, payoff_matrix=None, strategies=None):\n",
    "    self.payoff_matrix = payoff_matrix\n",
    "    self.strategies = strategies\n",
    "    self.population = []\n",
    "    self.fitness_data = None\n",
    "\n",
    "  def create_population(self, size, tat_frac=0, defect_frac=0): \n",
    "    self.population = []\n",
    "    \n",
    "    coop_frac = 1 - tat_frac - defect_frac\n",
    "    self.population.extend([Agent(strategy='C') for _ in range(int(size*coop_frac))])\n",
    "    self.population.extend([Agent(strategy='T') for _ in range(int(size*tat_frac))])\n",
    "    self.population.extend([Agent(strategy='D') for _ in range(int(size*defect_frac))])\n",
    "\n",
    "\n",
    "  def repeated_game(self, agent_1, agent_2, repititions):\n",
    "    agent_2.last_opponents_strategy = 0\n",
    "    agent_1.last_opponents_strategy = 0\n",
    "\n",
    "    for _ in range(repititions):\n",
    "      a1c = agent_1.act()\n",
    "      a2c = agent_2.act()\n",
    "      agent_2.last_opponents_strategy = a1c\n",
    "      agent_1.last_opponents_strategy = a2c\n",
    "\n",
    "      payoffs = self.payoff_matrix[a1c][a2c]\n",
    "\n",
    "      agent_1.score += payoffs[0]\n",
    "      agent_2.score += payoffs[1]\n",
    "\n",
    "  def simulation_loop(self, iterations, depth=10):\n",
    "    for i in range(iterations):\n",
    "      self.repeated_game(r.choice(self.population), r.choice(self.population), depth)\n",
    "\n",
    "    d = {'strategy': [a.strategy for a in self.population], \n",
    "         'score': [a.score for a in self.population]}\n",
    "    self.fitness_data = pd.DataFrame(data=d)\n",
    "\n",
    "  @property\n",
    "  def reward_rates(self):\n",
    "    assert self.fitness_data is not None\n",
    "    counts = self.fitness_data.pivot(columns='strategy').count()\n",
    "    sums = self.fitness_data.pivot(columns='strategy').fillna(0).sum()\n",
    "    return sums/counts"
   ]
  },
  {
   "cell_type": "code",
   "execution_count": 4,
   "metadata": {
    "colab": {},
    "colab_type": "code",
    "id": "Cs_Mjd0ZDysb"
   },
   "outputs": [],
   "source": [
    "class Agent():\n",
    "  def __init__(self, strategy=None):\n",
    "    self.strategy = strategy\n",
    "    if strategy is None:\n",
    "      self.strategy = r.choice(strategies)\n",
    "    self.score = 0\n",
    "    self.last_opponents_strategy = 0\n",
    "\n",
    "  def act(self):\n",
    "    strat = self.strategy\n",
    "    if strat == 'C':  # cooperate\n",
    "      return 0\n",
    "    elif strat == 'D':  # defect\n",
    "      return 1\n",
    "    elif strat == 'T':  # tit-for-tat\n",
    "      return self.last_opponents_strategy\n",
    "    elif strat == 'O':  # opposite\n",
    "      return (self.last_opponents_strategy+1) % 2\n",
    "    elif strat == 'R':  # random\n",
    "      return r.choice([0,1])"
   ]
  },
  {
   "cell_type": "code",
   "execution_count": 5,
   "metadata": {},
   "outputs": [],
   "source": [
    "grid = [[0 for _ in range(gridsize)] for _ in range(gridsize)]\n",
    "colorcode = {'C': 0, \"T\": 1, \"D\": 2}\n",
    "\n",
    "for i in range(gridsize):\n",
    "    for j in range(gridsize-i):\n",
    "        a, b = i/gridsize, j/gridsize\n",
    "        \n",
    "        t = Tournament(payoff_matrix=payoff_matrix, strategies=strategies)\n",
    "        t.create_population(120, a, b)\n",
    "        t.simulation_loop(500, depth=20)\n",
    "        \n",
    "        key = t.reward_rates.sort_values(ascending=False).keys()[0][1] \n",
    "        value = colorcode[key]\n",
    "        \n",
    "        grid[i][j] = value"
   ]
  },
  {
   "cell_type": "code",
   "execution_count": 6,
   "metadata": {},
   "outputs": [
    {
     "data": {
      "text/plain": [
       "<matplotlib.axes._subplots.AxesSubplot at 0x2011d816a08>"
      ]
     },
     "execution_count": 6,
     "metadata": {},
     "output_type": "execute_result"
    },
    {
     "data": {
      "image/png": "[encoded data removed]",
      "text/plain": [
       "<Figure size 432x288 with 2 Axes>"
      ]
     },
     "metadata": {
      "needs_background": "light"
     },
     "output_type": "display_data"
    }
   ],
   "source": [
    "sns.heatmap(grid, cmap=cmap)"
   ]
  },
  {
   "cell_type": "code",
   "execution_count": null,
   "metadata": {},
   "outputs": [],
   "source": []
  }
 ],
 "metadata": {
  "colab": {
   "collapsed_sections": [],
   "name": "IteratedGame.ipynb",
   "provenance": []
  },
  "kernelspec": {
   "display_name": "Python 3",
   "language": "python",
   "name": "python3"
  },
  "language_info": {
   "codemirror_mode": {
    "name": "ipython",
    "version": 3
   },
   "file_extension": ".py",
   "mimetype": "text/x-python",
   "name": "python",
   "nbconvert_exporter": "python",
   "pygments_lexer": "ipython3",
   "version": "3.7.6"
  }
 },
 "nbformat": 4,
 "nbformat_minor": 1
}
