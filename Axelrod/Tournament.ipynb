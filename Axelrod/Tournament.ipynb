{
  "nbformat": 4,
  "nbformat_minor": 0,
  "metadata": {
    "colab": {
      "name": "IteratedGame.ipynb",
      "provenance": [],
      "collapsed_sections": []
    },
    "kernelspec": {
      "name": "python3",
      "display_name": "Python 3"
    }
  },
  "cells": [
    {
      "cell_type": "code",
      "metadata": {
        "id": "2oDUn4k0BQ-g",
        "colab_type": "code",
        "colab": {}
      },
      "source": [
        "import random as r\n",
        "import pandas as pd"
      ],
      "execution_count": 0,
      "outputs": []
    },
    {
      "cell_type": "code",
      "metadata": {
        "id": "4QyHOfrgADyD",
        "colab_type": "code",
        "colab": {}
      },
      "source": [
        "payoff_matrix = [[(2,2), (0,3)], [(3,0), (1,1)]]  # 0: cooperate; 1: defect\n",
        "# [first player strategy][second player strategy]\n",
        "# (first player payoff, second player payoff)\n",
        "strategies = ['C','T','D', 'O', 'R']"
      ],
      "execution_count": 0,
      "outputs": []
    },
    {
      "cell_type": "code",
      "metadata": {
        "id": "Cs_Mjd0ZDysb",
        "colab_type": "code",
        "colab": {}
      },
      "source": [
        "class agent():\n",
        "  def __init__(self, strategy=None):\n",
        "    self.strategy = strategy\n",
        "    if strategy is None:\n",
        "      self.strategy = r.choice(strategies)\n",
        "    self.score = 0\n",
        "    self.last_opponents_strategy = 0\n",
        "\n",
        "  def act(self):\n",
        "    strat = self.strategy\n",
        "    if strat == 'C':\n",
        "      return 0\n",
        "    elif strat == 'D':\n",
        "      return 1\n",
        "    elif strat == 'T':\n",
        "      return self.last_opponents_strategy\n",
        "    elif strat == 'O':\n",
        "      return (self.last_opponents_strategy+1) % 2\n",
        "    elif strat == 'R':\n",
        "      return r.choice([0,1])"
      ],
      "execution_count": 0,
      "outputs": []
    },
    {
      "cell_type": "code",
      "metadata": {
        "id": "YKZvTXuKAgPI",
        "colab_type": "code",
        "colab": {}
      },
      "source": [
        "def repeated_game(agent_1, agent_2, repititions):\n",
        "  agent_2.last_opponents_strategy = 0\n",
        "  agent_1.last_opponents_strategy = 0\n",
        "\n",
        "  for _ in range(repititions):\n",
        "    a1c = agent_1.act()\n",
        "    a2c = agent_2.act()\n",
        "    agent_2.last_opponents_strategy = a1c\n",
        "    agent_1.last_opponents_strategy = a2c\n",
        "\n",
        "    payoffs = payoff_matrix[a1c][a2c]\n",
        "\n",
        "    agent_1.score += payoffs[0]\n",
        "    agent_2.score += payoffs[1]"
      ],
      "execution_count": 0,
      "outputs": []
    },
    {
      "cell_type": "code",
      "metadata": {
        "id": "1d41DfaLAdOl",
        "colab_type": "code",
        "colab": {}
      },
      "source": [
        "def create_population(cooperators=1, tatters=1, defectors=1, opposites=0, randoms=0):\n",
        "  population = [agent(strategy=strategies[0]) for _ in range(cooperators)]\n",
        "  population.extend([agent(strategy=strategies[1]) for _ in range(tatters)])\n",
        "  population.extend([agent(strategy=strategies[2]) for _ in range(defectors)])\n",
        "  population.extend([agent(strategy=strategies[3]) for _ in range(opposites)])\n",
        "  population.extend([agent(strategy=strategies[4]) for _ in range(randoms)])\n",
        "\n",
        "  return population"
      ],
      "execution_count": 0,
      "outputs": []
    },
    {
      "cell_type": "code",
      "metadata": {
        "id": "UqpJ6Ex7jrir",
        "colab_type": "code",
        "colab": {}
      },
      "source": [
        "population = create_population(30,10,50,10)"
      ],
      "execution_count": 0,
      "outputs": []
    },
    {
      "cell_type": "code",
      "metadata": {
        "id": "z0jI8sI4Cch2",
        "colab_type": "code",
        "colab": {}
      },
      "source": [
        "for i in range(150):\n",
        "  repeated_game(r.choice(population), r.choice(population), 13)\n",
        "d = {'strategy': [a.strategy for a in population], 'score': [a.score for a in population]}\n",
        "\n",
        "fitness_data = pd.DataFrame(data=d)\n",
        "counts = fitness_data.pivot(columns='strategy').count()\n",
        "sums = fitness_data.pivot(columns='strategy').fillna(0).sum()\n",
        "print(counts)\n",
        "print(sums/counts)"
      ],
      "execution_count": 0,
      "outputs": []
    },
    {
      "cell_type": "code",
      "metadata": {
        "id": "xF7-Mz81t45c",
        "colab_type": "code",
        "colab": {}
      },
      "source": [
        ""
      ],
      "execution_count": 0,
      "outputs": []
    }
  ]
}