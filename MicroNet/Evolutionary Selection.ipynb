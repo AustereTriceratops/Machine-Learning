{
 "cells": [
  {
   "cell_type": "code",
   "execution_count": 1,
   "metadata": {},
   "outputs": [],
   "source": [
    "import tensorflow as tf\n",
    "import numpy as np\n",
    "%matplotlib inline\n",
    "import matplotlib.pyplot as plt\n",
    "import pandas as pd\n",
    "\n",
    "from tensorflow.keras.layers import Dense, Input\n",
    "from tensorflow.keras.models import Model, clone_model\n",
    "from tensorflow.keras.utils import to_categorical\n",
    "from tensorflow.keras.losses import categorical_crossentropy\n",
    "from tensorflow.keras.optimizers import SGD"
   ]
  },
  {
   "cell_type": "code",
   "execution_count": 2,
   "metadata": {},
   "outputs": [
    {
     "data": {
      "text/plain": [
       "(array([[0, 0],\n",
       "        [1, 0],\n",
       "        [0, 1],\n",
       "        [1, 1]]), array([[1., 0.],\n",
       "        [0., 1.],\n",
       "        [0., 1.],\n",
       "        [1., 0.]], dtype=float32))"
      ]
     },
     "execution_count": 2,
     "metadata": {},
     "output_type": "execute_result"
    }
   ],
   "source": [
    "# XOR problem\n",
    "\n",
    "x = [[0,0], [1,0], [0,1], [1,1]]\n",
    "y = [0,1,1,0]\n",
    "\n",
    "x = np.asarray(x)\n",
    "y = np.asarray(y)\n",
    "y = to_categorical(y)\n",
    "\n",
    "x, y"
   ]
  },
  {
   "cell_type": "code",
   "execution_count": null,
   "metadata": {},
   "outputs": [],
   "source": [
    "# ===== Functions ====="
   ]
  },
  {
   "cell_type": "code",
   "execution_count": 3,
   "metadata": {},
   "outputs": [],
   "source": [
    "def create_random_model(): # change architecture manually\n",
    "    x_in = Input(shape=(2,))\n",
    "    s = Dense(5, activation='relu')(x_in)\n",
    "    s = Dense(5, activation='relu')(s)\n",
    "    s = Dense(2, activation='softmax')(s)\n",
    "\n",
    "    model = Model(inputs=x_in, outputs=s)\n",
    "    return model"
   ]
  },
  {
   "cell_type": "code",
   "execution_count": 4,
   "metadata": {},
   "outputs": [],
   "source": [
    "def perturb_weights(weights, mag=0.5):\n",
    "    for i in range(len(weights)):\n",
    "        random_perturbation = (np.random.rand(*weights[i].shape) - 0.5)*2*mag\n",
    "        weights[i] += random_perturbation\n",
    "    return weights"
   ]
  },
  {
   "cell_type": "code",
   "execution_count": 5,
   "metadata": {},
   "outputs": [],
   "source": [
    "def find_losses(models): # list/array of models,\n",
    "    losses = []\n",
    "\n",
    "    for i in range(len(models)):\n",
    "        y_pred = models[i].predict(x)\n",
    "        loss = categorical_crossentropy(y, y_pred, label_smoothing=0.)\n",
    "        losses.append(loss.numpy())\n",
    "\n",
    "    l = np.array(losses)\n",
    "    l = np.sum(l, axis=1)\n",
    "    return l   # numpy array"
   ]
  },
  {
   "cell_type": "code",
   "execution_count": 6,
   "metadata": {},
   "outputs": [],
   "source": [
    "def find_best_models(models, num=5): # list/array of models, int\n",
    "    l = find_losses(models)\n",
    "    model_scores = pd.DataFrame(data={\"Model\": models, \"Loss\": l})\n",
    "    top_performers = model_scores.sort_values(\"Loss\").index[0:num]\n",
    "    \n",
    "    print(\"best loss: %f\" %(find_losses([models[top_performers[0]]])))\n",
    "    \n",
    "    top_models = []\n",
    "    for i in range(len(models)):\n",
    "        if i in top_performers:\n",
    "            top_models.append(models[i])\n",
    "            \n",
    "    return top_models  # list of models"
   ]
  },
  {
   "cell_type": "code",
   "execution_count": 7,
   "metadata": {},
   "outputs": [],
   "source": [
    "def mutate_models(top_models, multiplicity, mag=0.005): # list of models, int, float\n",
    "    new_models = []\n",
    "    for i in range(len(top_models)):\n",
    "        for _ in range(multiplicity):\n",
    "            new_model = clone_model(top_models[i])\n",
    "            w = perturb_weights(top_models[i].get_weights(), mag=mag)\n",
    "            new_model.set_weights(w)\n",
    "            new_models.append(new_model)\n",
    "\n",
    "    return new_models  # list of models"
   ]
  },
  {
   "cell_type": "code",
   "execution_count": null,
   "metadata": {},
   "outputs": [],
   "source": [
    "# ===== Reference model w/ gradient descent ====="
   ]
  },
  {
   "cell_type": "code",
   "execution_count": 9,
   "metadata": {},
   "outputs": [
    {
     "data": {
      "text/plain": [
       "<tensorflow.python.keras.callbacks.History at 0x1fa9d48edd8>"
      ]
     },
     "execution_count": 9,
     "metadata": {},
     "output_type": "execute_result"
    }
   ],
   "source": [
    "reference_model = create_random_model()\n",
    "optim = SGD(lr=0.05)\n",
    "reference_model.compile(optimizer=optim, loss='categorical_crossentropy')\n",
    "reference_model.fit(x,y, epochs=500, batch_size=10, verbose=False)"
   ]
  },
  {
   "cell_type": "code",
   "execution_count": 10,
   "metadata": {},
   "outputs": [
    {
     "data": {
      "text/plain": [
       "array([[0.97700924, 0.02299074],\n",
       "       [0.00708226, 0.9929178 ],\n",
       "       [0.00915171, 0.9908483 ],\n",
       "       [0.9770055 , 0.02299451]], dtype=float32)"
      ]
     },
     "execution_count": 10,
     "metadata": {},
     "output_type": "execute_result"
    }
   ],
   "source": [
    "reference_model.predict(x)"
   ]
  },
  {
   "cell_type": "code",
   "execution_count": 11,
   "metadata": {},
   "outputs": [
    {
     "data": {
      "text/plain": [
       "array([0.06282344], dtype=float32)"
      ]
     },
     "execution_count": 11,
     "metadata": {},
     "output_type": "execute_result"
    }
   ],
   "source": [
    "find_losses([reference_model])"
   ]
  },
  {
   "cell_type": "code",
   "execution_count": 12,
   "metadata": {},
   "outputs": [],
   "source": [
    "mutated_reference = mutate_models([reference_model], 20, mag=0.005)"
   ]
  },
  {
   "cell_type": "code",
   "execution_count": 13,
   "metadata": {},
   "outputs": [
    {
     "data": {
      "text/plain": [
       "array([0.06258045, 0.06443436, 0.06343748, 0.06387063, 0.06430197,\n",
       "       0.0642468 , 0.06339432, 0.063348  , 0.06574213, 0.06341061,\n",
       "       0.06344171, 0.0634529 , 0.06316434, 0.06321329, 0.06371651,\n",
       "       0.06334789, 0.06403564, 0.06209774, 0.06423651, 0.0633956 ],\n",
       "      dtype=float32)"
      ]
     },
     "execution_count": 13,
     "metadata": {},
     "output_type": "execute_result"
    }
   ],
   "source": [
    "find_losses(mutated_reference)"
   ]
  },
  {
   "cell_type": "code",
   "execution_count": null,
   "metadata": {},
   "outputs": [],
   "source": [
    "# ===== Models de novo ====="
   ]
  },
  {
   "cell_type": "code",
   "execution_count": 16,
   "metadata": {},
   "outputs": [],
   "source": [
    "models = [create_random_model() for _ in range(50)]"
   ]
  },
  {
   "cell_type": "code",
   "execution_count": 17,
   "metadata": {},
   "outputs": [
    {
     "name": "stdout",
     "output_type": "stream",
     "text": [
      "best loss: 2.646842\n",
      "best loss: 2.621670\n",
      "best loss: 2.560894\n",
      "best loss: 2.510812\n",
      "best loss: 2.431355\n",
      "best loss: 2.360946\n",
      "best loss: 2.311098\n",
      "best loss: 2.234711\n",
      "best loss: 2.210665\n",
      "best loss: 2.157472\n",
      "best loss: 2.096515\n",
      "best loss: 2.065003\n",
      "best loss: 1.955508\n",
      "best loss: 1.909362\n",
      "best loss: 1.869195\n",
      "best loss: 1.819166\n",
      "best loss: 1.788042\n",
      "best loss: 1.749300\n",
      "best loss: 1.710319\n",
      "best loss: 1.681564\n",
      "best loss: 1.640366\n",
      "best loss: 1.622774\n",
      "best loss: 1.604389\n",
      "best loss: 1.561597\n",
      "best loss: 1.494629\n"
     ]
    }
   ],
   "source": [
    "history = []\n",
    "\n",
    "for i in range(25):\n",
    "    best = find_best_models(models)\n",
    "    \n",
    "    history.append(find_losses(best))\n",
    "    models = mutate_models(best, 10, mag=0.05)"
   ]
  },
  {
   "cell_type": "code",
   "execution_count": 15,
   "metadata": {},
   "outputs": [
    {
     "data": {
      "text/plain": [
       "array([[0.6150469 , 0.38495305],\n",
       "       [0.42090976, 0.57909024],\n",
       "       [0.28721654, 0.7127835 ],\n",
       "       [0.5790243 , 0.42097563]], dtype=float32)"
      ]
     },
     "execution_count": 15,
     "metadata": {},
     "output_type": "execute_result"
    }
   ],
   "source": [
    "best[0].predict(x)"
   ]
  },
  {
   "cell_type": "code",
   "execution_count": null,
   "metadata": {},
   "outputs": [],
   "source": []
  }
 ],
 "metadata": {
  "kernelspec": {
   "display_name": "Python 3",
   "language": "python",
   "name": "python3"
  },
  "language_info": {
   "codemirror_mode": {
    "name": "ipython",
    "version": 3
   },
   "file_extension": ".py",
   "mimetype": "text/x-python",
   "name": "python",
   "nbconvert_exporter": "python",
   "pygments_lexer": "ipython3",
   "version": "3.6.8"
  }
 },
 "nbformat": 4,
 "nbformat_minor": 2
}
