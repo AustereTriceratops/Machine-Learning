{
 "cells": [
  {
   "cell_type": "code",
   "execution_count": 1,
   "metadata": {},
   "outputs": [],
   "source": [
    "import tensorflow as tf\n",
    "import tensorflow.keras as keras\n",
    "import numpy as np"
   ]
  },
  {
   "cell_type": "code",
   "execution_count": 2,
   "metadata": {},
   "outputs": [],
   "source": [
    "transition_matrix = np.array([\n",
    "    [0.3, 0.7, 0, 0],\n",
    "    [0.4, 0, 0.6, 0],\n",
    "    [0.25, 0, 0, 0.75],\n",
    "    [1, 0, 0, 0]\n",
    "])\n",
    "\n",
    "state_signal = [0, 1, 1, 1]"
   ]
  },
  {
   "cell_type": "code",
   "execution_count": 3,
   "metadata": {},
   "outputs": [],
   "source": [
    "def random_sequence(length, transition_matrix=transition_matrix, state_signal=state_signal):\n",
    "    shape = transition_matrix.shape\n",
    "    assert shape[0] == shape[1]\n",
    "    \n",
    "    state = np.random.randint(shape[0])\n",
    "    sequence = [state_signal[state]]\n",
    "    \n",
    "    for _ in range(length-1): # state is updated at every step\n",
    "        r = np.random.random()\n",
    "        \n",
    "        probs = np.sort(transition_matrix[state]) # sort transition probabilities ascending\n",
    "        prob_int = np.cumsum(probs)  # take the cumulative sum to ensure the unit interval is spanned\n",
    "        \n",
    "        for i in range(len(prob_int)):\n",
    "            if r > prob_int[i]:\n",
    "                continue\n",
    "            else:  \n",
    "                state = np.where(transition_matrix[state] == probs[i])[0][0]\n",
    "                break\n",
    "                \n",
    "        sequence.append(state_signal[state])\n",
    "        \n",
    "    return np.array(sequence)"
   ]
  },
  {
   "cell_type": "code",
   "execution_count": 4,
   "metadata": {},
   "outputs": [],
   "source": [
    "def has_runs(sequence, run_len):  # detects runs of 1 of a given length\n",
    "    s = 0\n",
    "    \n",
    "    for i in sequence:\n",
    "        if i == 1:\n",
    "            s += 1\n",
    "        else:\n",
    "            s = 0\n",
    "            \n",
    "        if s == run_len:\n",
    "            return True\n",
    "        \n",
    "    return False"
   ]
  },
  {
   "cell_type": "code",
   "execution_count": 5,
   "metadata": {},
   "outputs": [],
   "source": [
    "x = np.array([random_sequence(10) for _ in range(250)])  # shape: (250, 10)\n",
    "y = keras.utils.to_categorical([has_runs(i, 3) for i in x])  # shape: (250, 2)"
   ]
  },
  {
   "cell_type": "code",
   "execution_count": 6,
   "metadata": {},
   "outputs": [
    {
     "name": "stdout",
     "output_type": "stream",
     "text": [
      "Model: \"functional_1\"\n",
      "_________________________________________________________________\n",
      "Layer (type)                 Output Shape              Param #   \n",
      "=================================================================\n",
      "input_1 (InputLayer)         [(None, 10)]              0         \n",
      "_________________________________________________________________\n",
      "dense (Dense)                (None, 15)                165       \n",
      "_________________________________________________________________\n",
      "dense_1 (Dense)              (None, 2)                 32        \n",
      "=================================================================\n",
      "Total params: 197\n",
      "Trainable params: 197\n",
      "Non-trainable params: 0\n",
      "_________________________________________________________________\n"
     ]
    }
   ],
   "source": [
    "x_in = keras.layers.Input(shape=(10,))\n",
    "x_out = keras.layers.Dense(15, activation=\"relu\")(x_in)\n",
    "x_out = keras.layers.Dense(2, activation=\"softmax\")(x_out)\n",
    "\n",
    "model = keras.models.Model(inputs=x_in, outputs=x_out)\n",
    "model.summary()"
   ]
  },
  {
   "cell_type": "code",
   "execution_count": 7,
   "metadata": {},
   "outputs": [
    {
     "data": {
      "text/plain": [
       "<tensorflow.python.keras.callbacks.History at 0x16d8cb721c8>"
      ]
     },
     "execution_count": 7,
     "metadata": {},
     "output_type": "execute_result"
    }
   ],
   "source": [
    "model.compile(optimizer=\"SGD\", loss=\"binary_crossentropy\", metrics=['accuracy'])\n",
    "model.fit(x, y, epochs=750, batch_size=15, verbose=False)"
   ]
  },
  {
   "cell_type": "code",
   "execution_count": 8,
   "metadata": {},
   "outputs": [
    {
     "data": {
      "text/plain": [
       "array([[0.03216824, 0.96783173]], dtype=float32)"
      ]
     },
     "execution_count": 8,
     "metadata": {},
     "output_type": "execute_result"
    }
   ],
   "source": [
    "test = np.expand_dims(np.array([1,1,1,0,0,0,1,1,0,1]), axis=0)  # this is annoying\n",
    "model.predict(test)"
   ]
  },
  {
   "cell_type": "code",
   "execution_count": null,
   "metadata": {},
   "outputs": [],
   "source": []
  }
 ],
 "metadata": {
  "kernelspec": {
   "display_name": "Python 3",
   "language": "python",
   "name": "python3"
  },
  "language_info": {
   "codemirror_mode": {
    "name": "ipython",
    "version": 3
   },
   "file_extension": ".py",
   "mimetype": "text/x-python",
   "name": "python",
   "nbconvert_exporter": "python",
   "pygments_lexer": "ipython3",
   "version": "3.7.6"
  }
 },
 "nbformat": 4,
 "nbformat_minor": 4
}
