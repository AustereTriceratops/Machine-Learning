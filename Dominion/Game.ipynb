{
 "cells": [
  {
   "cell_type": "code",
   "execution_count": 1,
   "metadata": {},
   "outputs": [],
   "source": [
    "%matplotlib inline\n",
    "import matplotlib.pyplot as plt\n",
    "import numpy as np\n",
    "import pandas as pd"
   ]
  },
  {
   "cell_type": "code",
   "execution_count": 26,
   "metadata": {},
   "outputs": [],
   "source": [
    "class Card:\n",
    "    def __init__(self, cost=0, victory_points=0, card_type=None, money=0):\n",
    "        self.cost = cost\n",
    "        self.victory_points = victory_points\n",
    "        self.card_type = card_type\n",
    "        self.money = money"
   ]
  },
  {
   "cell_type": "code",
   "execution_count": 212,
   "metadata": {},
   "outputs": [],
   "source": [
    "cl = {\n",
    "        \"copper\": Card(card_type=\"treasure\", money=1),\n",
    "        \"silver\": Card(card_type=\"treasure\", cost=3, money=2),\n",
    "        \"gold\": Card(card_type=\"treasure\", cost=6, money=3),\n",
    "        \"estate\": Card(card_type=\"victory\", cost=2, victory_points=1),\n",
    "        \"duchy\": Card(card_type=\"victory\", cost=5, victory_points=3),\n",
    "        \"province\": Card(card_type=\"victory\", cost=8, victory_points=6),\n",
    "     }\n",
    "\n",
    "cards = list(cl.keys())"
   ]
  },
  {
   "cell_type": "code",
   "execution_count": 507,
   "metadata": {},
   "outputs": [],
   "source": [
    "empty_deck = pd.DataFrame(np.array([[0, 0, 0, 0, 0, 0]]), columns = cards)\n",
    "starting_deck = pd.DataFrame(np.array([[7, 0, 0, 3, 0, 0]]), columns = cards)\n",
    "supply_pile = pd.DataFrame(np.array([[50, 30, 20, 5, 5, 5]]), columns = cards)"
   ]
  },
  {
   "cell_type": "code",
   "execution_count": 436,
   "metadata": {},
   "outputs": [],
   "source": [
    "class Player:\n",
    "    def __init__(self, index):\n",
    "        self.index = index\n",
    "        self.all_cards = starting_deck.copy()\n",
    "        self.deck = []  # must be ordered\n",
    "        self.discarded = starting_deck.copy()\n",
    "        self.hand = empty_deck.copy()\n",
    "        self.played = empty_deck.copy()\n",
    "        \n",
    "        self.actions = 1\n",
    "        self.buys = 1\n",
    "        self.money_in_play = 0\n",
    "        self.score = 0\n",
    "        \n",
    "        self.shuffle()\n",
    "        self.draw(5)\n",
    "        \n",
    "    def shuffle(self):  #called when player needs to draw but the deck is empty\n",
    "        self.deck = []  # should be redundant but just in case\n",
    "        for card in self.discarded:\n",
    "            for _ in range(self.discarded[card].values[0]):\n",
    "                self.deck.append(card)\n",
    "            self.discarded[card] = 0\n",
    "                \n",
    "        np.random.shuffle(self.deck)\n",
    "        \n",
    "    def draw(self, n=1):                \n",
    "        for _ in range(n):\n",
    "            if not self.deck:\n",
    "                self.shuffle()\n",
    "                if not self.deck:  # no cards in deck or discard pile\n",
    "                    break\n",
    "            self.hand[self.deck[0]] += 1\n",
    "            self.deck = self.deck[1:]\n",
    "    \n",
    "    def discard_hand(self):\n",
    "        for card in self.hand:\n",
    "            a = self.hand[card].values[0]\n",
    "            self.hand[card] -= a\n",
    "            self.discarded[card] += a\n",
    "            \n",
    "    \n",
    "    def discard_played(self):\n",
    "        for card in self.played:\n",
    "            a = self.played[card].values[0]\n",
    "            self.played[card] -= a\n",
    "            self.discarded[card] += a\n",
    "                  \n",
    "    \n",
    "    def play(self, card, n=1):\n",
    "        if self.hand[card].values[0] >= n:\n",
    "            self.hand[card] -= n\n",
    "            self.played[card] += n\n",
    "            \n",
    "    \n",
    "    def gain(self, card):\n",
    "        self.discarded[card] += 1\n",
    "        self.all_cards[card] += 1\n",
    "        \n",
    "            \n",
    "    def end_turn(self):\n",
    "        self.money_in_play = 0\n",
    "        self.discard_hand()\n",
    "        self.discard_played()\n",
    "        self.draw(5)\n",
    "        self.actions = 1\n",
    "        self.buys = 1"
   ]
  },
  {
   "cell_type": "code",
   "execution_count": 438,
   "metadata": {},
   "outputs": [],
   "source": [
    "class GameState:\n",
    "    def __init__(self):\n",
    "        self.num_players = 2\n",
    "        self.players = [Player(i) for i in range(self.num_players)]\n",
    "        self.active_player_index = 0\n",
    "        self.active_player = self.players[0]\n",
    "        \n",
    "        self.supply_pile = supply_pile.copy()\n",
    "        \n",
    "        \n",
    "    def play_all_treasures(self):\n",
    "        h = self.active_player.hand\n",
    "        for card in h:\n",
    "            if cl[card].card_type == 'treasure':\n",
    "                amount = h[card].values[0]    # how many treasures are in hand\n",
    "                self.active_player.play(card, n=amount)  # move them out of hand and into play\n",
    "                self.active_player.money_in_play += amount*cl[card].money\n",
    "                \n",
    "        \n",
    "    def buy_card(self, card):\n",
    "        p = self.active_player\n",
    "        if p.buys > 0:  \n",
    "            if (self.supply_pile[card].values[0] > 0) & (p.money_in_play >= cl[card].cost): # can't buy if a card isn't there\n",
    "                self.supply_pile[card] -= 1\n",
    "                p.gain(card)\n",
    "                p.money_in_play -= cl[card].cost\n",
    "                p.buys -= 1\n",
    "                \n",
    "        if self.supply_pile[\"province\"].values[0] == 0:\n",
    "            self.end_game()\n",
    "        \n",
    "        if p.buys == 0:\n",
    "            p.end_turn()\n",
    "            self.next_turn()\n",
    "            \n",
    "    \n",
    "    def next_turn(self):\n",
    "        self.active_player_index = (self.active_player_index + 1) % self.num_players\n",
    "        self.active_player = self.players[self.active_player_index]\n",
    "        \n",
    "    def end_game(self):\n",
    "        for p in self.players:\n",
    "            for card in p.all_cards:\n",
    "                if cl[card].card_type == 'victory':\n",
    "                    p.score += p.all_cards[card].values[0] * cl[card].victory_points\n",
    "            print(\"Player %d : %d points\" %(p.index, p.score))"
   ]
  },
  {
   "cell_type": "code",
   "execution_count": 439,
   "metadata": {},
   "outputs": [
    {
     "data": {
      "text/html": [
       "<div>\n",
       "<style scoped>\n",
       "    .dataframe tbody tr th:only-of-type {\n",
       "        vertical-align: middle;\n",
       "    }\n",
       "\n",
       "    .dataframe tbody tr th {\n",
       "        vertical-align: top;\n",
       "    }\n",
       "\n",
       "    .dataframe thead th {\n",
       "        text-align: right;\n",
       "    }\n",
       "</style>\n",
       "<table border=\"1\" class=\"dataframe\">\n",
       "  <thead>\n",
       "    <tr style=\"text-align: right;\">\n",
       "      <th></th>\n",
       "      <th>copper</th>\n",
       "      <th>silver</th>\n",
       "      <th>gold</th>\n",
       "      <th>estate</th>\n",
       "      <th>duchy</th>\n",
       "      <th>province</th>\n",
       "    </tr>\n",
       "  </thead>\n",
       "  <tbody>\n",
       "    <tr>\n",
       "      <th>0</th>\n",
       "      <td>4</td>\n",
       "      <td>0</td>\n",
       "      <td>0</td>\n",
       "      <td>1</td>\n",
       "      <td>0</td>\n",
       "      <td>0</td>\n",
       "    </tr>\n",
       "  </tbody>\n",
       "</table>\n",
       "</div>"
      ],
      "text/plain": [
       "   copper  silver  gold  estate  duchy  province\n",
       "0       4       0     0       1      0         0"
      ]
     },
     "execution_count": 439,
     "metadata": {},
     "output_type": "execute_result"
    }
   ],
   "source": [
    "g = GameState()\n",
    "g.active_player.hand"
   ]
  },
  {
   "cell_type": "code",
   "execution_count": 500,
   "metadata": {},
   "outputs": [
    {
     "name": "stdout",
     "output_type": "stream",
     "text": [
      "   copper  silver  gold  estate  duchy  province\n",
      "0       2       2     0       0      1         0\n",
      "6\n"
     ]
    }
   ],
   "source": [
    "print(g.active_player.hand)\n",
    "g.play_all_treasures()\n",
    "print(g.active_player.money_in_play)"
   ]
  },
  {
   "cell_type": "code",
   "execution_count": 501,
   "metadata": {},
   "outputs": [],
   "source": [
    "g.buy_card(\"duchy\")"
   ]
  },
  {
   "cell_type": "code",
   "execution_count": 502,
   "metadata": {},
   "outputs": [
    {
     "name": "stdout",
     "output_type": "stream",
     "text": [
      "   copper  silver  gold  estate  duchy  province\n",
      "0       4       4     2       0      0         2\n",
      "   copper  silver  gold  estate  duchy  province\n",
      "0       0       0     0       0      0         0\n",
      "   copper  silver  gold  estate  duchy  province\n",
      "0       2       0     0       3      0         0\n",
      "1\n"
     ]
    }
   ],
   "source": [
    "print(g.players[0].discarded)\n",
    "print(g.players[0].played)\n",
    "print(g.players[0].hand)\n",
    "print(g.players[0].buys)"
   ]
  },
  {
   "cell_type": "code",
   "execution_count": 503,
   "metadata": {},
   "outputs": [
    {
     "name": "stdout",
     "output_type": "stream",
     "text": [
      "   copper  silver  gold  estate  duchy  province\n",
      "0       5       4     1       0      2         0\n",
      "   copper  silver  gold  estate  duchy  province\n",
      "0       0       0     0       0      0         0\n",
      "   copper  silver  gold  estate  duchy  province\n",
      "0       1       1     0       3      0         0\n",
      "1\n"
     ]
    }
   ],
   "source": [
    "print(g.players[1].discarded)\n",
    "print(g.players[1].played)\n",
    "print(g.players[1].hand)\n",
    "print(g.players[1].buys)"
   ]
  },
  {
   "cell_type": "code",
   "execution_count": 505,
   "metadata": {},
   "outputs": [
    {
     "name": "stdout",
     "output_type": "stream",
     "text": [
      "Player 0 : 15 points\n",
      "Player 1 : 9 points\n"
     ]
    }
   ],
   "source": [
    "g.end_game()"
   ]
  },
  {
   "cell_type": "code",
   "execution_count": 506,
   "metadata": {},
   "outputs": [
    {
     "name": "stdout",
     "output_type": "stream",
     "text": [
      "   copper  silver  gold  estate  duchy  province\n",
      "0       7       4     2       3      0         2\n",
      "   copper  silver  gold  estate  duchy  province\n",
      "0       7       5     1       3      2         0\n"
     ]
    }
   ],
   "source": [
    "print(g.players[0].all_cards)\n",
    "print(g.players[1].all_cards)"
   ]
  },
  {
   "cell_type": "code",
   "execution_count": null,
   "metadata": {},
   "outputs": [],
   "source": []
  }
 ],
 "metadata": {
  "kernelspec": {
   "display_name": "Python 3",
   "language": "python",
   "name": "python3"
  },
  "language_info": {
   "codemirror_mode": {
    "name": "ipython",
    "version": 3
   },
   "file_extension": ".py",
   "mimetype": "text/x-python",
   "name": "python",
   "nbconvert_exporter": "python",
   "pygments_lexer": "ipython3",
   "version": "3.6.8"
  }
 },
 "nbformat": 4,
 "nbformat_minor": 2
}
